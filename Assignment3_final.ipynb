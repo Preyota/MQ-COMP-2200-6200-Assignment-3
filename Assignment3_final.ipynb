{
 "cells": [
  {
   "cell_type": "markdown",
   "id": "2e0e1f2c",
   "metadata": {},
   "source": [
    "## Task 1: Centrality Extension"
   ]
  },
  {
   "cell_type": "code",
   "execution_count": null,
   "id": "f102309b",
   "metadata": {},
   "outputs": [],
   "source": [
    "import pandas as pd\n",
    "import networkx as nx\n",
    "\n",
    "df_directorships = pd.read_csv(\"company_directorships.csv\")\n",
    "df_details = pd.read_csv(\"director-details.csv\")\n",
    "\n",
    "B = nx.Graph()\n",
    "for company, director in zip(df_directorships.company_name, df_directorships.director_name):\n",
    "    B.add_edge(company, director)\n",
    "\n",
    "directors = df_directorships.director_name.unique()\n",
    "G = nx.bipartite.projected_graph(B, directors)\n",
    "\n",
    "degree_centrality = nx.degree_centrality(G)\n",
    "eigenvector_centrality = nx.eigenvector_centrality(G, max_iter=1000)\n",
    "\n",
    "top_100 = sorted(degree_centrality, key=degree_centrality.get, reverse=True)[:100]\n",
    "G_sampled = G.subgraph(top_100)\n",
    "closeness_centrality = nx.closeness_centrality(G_sampled)\n",
    "\n",
    "centrality_df = pd.DataFrame({\n",
    "    \"Director\": list(G_sampled.nodes),\n",
    "    \"Degree Centrality\": [degree_centrality[d] for d in G_sampled.nodes],\n",
    "    \"Eigenvector Centrality\": [eigenvector_centrality[d] for d in G_sampled.nodes],\n",
    "    \"Closeness Centrality\": [closeness_centrality[d] for d in G_sampled.nodes]\n",
    "}).sort_values(\"Degree Centrality\", ascending=False)\n",
    "\n",
    "centrality_df.head(10)\n"
   ]
  },
  {
   "cell_type": "markdown",
   "id": "0c9c243c",
   "metadata": {},
   "source": [
    "## Task 2: Code Repair"
   ]
  },
  {
   "cell_type": "code",
   "execution_count": null,
   "id": "4ddc4cb4",
   "metadata": {},
   "outputs": [],
   "source": [
    "import matplotlib.pyplot as plt\n",
    "\n",
    "df_clean_roles = df_details[df_details['role'].notnull() & (df_details['role'].str.strip() != \"\")]\n",
    "top_roles = df_clean_roles['role'].value_counts().head(10)\n",
    "\n",
    "plt.figure(figsize=(10, 5))\n",
    "top_roles.plot(kind='bar', color='skyblue')\n",
    "plt.title('Top 10 Director Roles')\n",
    "plt.ylabel('Number of Directors')\n",
    "plt.xlabel('Role')\n",
    "plt.xticks(rotation=45)\n",
    "plt.grid(axis='y')\n",
    "plt.tight_layout()\n",
    "plt.show()\n"
   ]
  },
  {
   "cell_type": "markdown",
   "id": "4029ec23",
   "metadata": {},
   "source": [
    "## Task 3: Explore Something New — Gender Distribution"
   ]
  },
  {
   "cell_type": "code",
   "execution_count": null,
   "id": "3a2ed424",
   "metadata": {},
   "outputs": [],
   "source": [
    "# Exploring the gender distribution among directors\n",
    "gender_counts = df_details['gender'].value_counts()\n",
    "\n",
    "import matplotlib.pyplot as plt\n",
    "plt.figure(figsize=(6,6))\n",
    "gender_counts.plot(kind='pie', autopct='%1.1f%%', colors=['#66b3ff','#ff9999'], startangle=90)\n",
    "plt.title('Gender Distribution of Directors')\n",
    "plt.ylabel('')\n",
    "plt.tight_layout()\n",
    "plt.show()\n"
   ]
  },
  {
   "cell_type": "markdown",
   "id": "9764c104",
   "metadata": {},
   "source": [
    "## Task 4: Complementary Dataset"
   ]
  },
  {
   "cell_type": "markdown",
   "id": "922ae710",
   "metadata": {},
   "source": [
    "**Proposed Dataset:** ASIC Financial Reports  \n",
    "**Source:** https://asic.gov.au/regulatory-resources/find-a-document/financial-reports\n",
    "\n",
    "By combining financial data with our network, we can assess whether directors sit on financially successful boards.\n"
   ]
  },
  {
   "cell_type": "code",
   "execution_count": null,
   "id": "342bb09e",
   "metadata": {},
   "outputs": [],
   "source": [
    "financials_df = pd.DataFrame({\n",
    "    'company_name': ['Alpha Corp', 'Beta Pty Ltd', 'Gamma Ltd', 'Delta Group', 'Epsilon Inc'],\n",
    "    'revenue': [5000000, 800000, 15000000, 3000000, 12000000],\n",
    "    'profit': [400000, -200000, 1200000, 100000, 950000]\n",
    "})\n",
    "\n",
    "merged_df = pd.merge(df_directorships, financials_df, on='company_name', how='inner')\n",
    "director_scores = merged_df.groupby('director_name')[['revenue', 'profit']].mean().sort_values(by='revenue', ascending=False)\n",
    "director_scores.head(5)\n"
   ]
  },
  {
   "cell_type": "markdown",
   "id": "c9e7d80f",
   "metadata": {},
   "source": [
    "## Task 5b: Implementation of Financial Dataset Idea"
   ]
  },
  {
   "cell_type": "code",
   "execution_count": null,
   "id": "2aa42581",
   "metadata": {},
   "outputs": [],
   "source": [
    "# Already using the financial data from Task 4\n",
    "# Here we further analyze which directors are linked to the most profitable companies\n",
    "\n",
    "# Sort by profit instead of revenue\n",
    "top_profit_directors = director_scores.sort_values(by='profit', ascending=False).head(5)\n",
    "top_profit_directors\n"
   ]
  },
  {
   "cell_type": "markdown",
   "id": "8d7c2f8b",
   "metadata": {},
   "source": [
    "## Task 5c: Ethics"
   ]
  },
  {
   "cell_type": "code",
   "execution_count": null,
   "id": "f1b63b55",
   "metadata": {},
   "outputs": [],
   "source": [
    "\"\"\"\n",
    "1. Privacy of Individuals:\n",
    "   Aggregating publicly available director data into a network raises privacy risks when linked to inferred power or performance.\n",
    "\n",
    "2. Bias in Data:\n",
    "   The dataset may reflect systemic inequalities (e.g., gender imbalance). Using it without corrections can reinforce bias.\n",
    "\n",
    "3. Misinterpretation Risk:\n",
    "   Centrality does not always mean skill or integrity. Over-relying on these metrics can lead to unfair decisions.\n",
    "\n",
    "4. Accountability and Transparency:\n",
    "   If used for VC decisions, the methodology should be disclosed to affected individuals.\n",
    "\n",
    "5. Purpose:\n",
    "   Network analysis should support ethical goals like improving diversity and oversight, not just profit maximization.\n",
    "\"\"\"\n"
   ]
  }
 ],
 "metadata": {
  "language_info": {
   "name": "python"
  }
 },
 "nbformat": 4,
 "nbformat_minor": 5
}
